{
 "cells": [
  {
   "cell_type": "code",
   "execution_count": 52,
   "id": "ec10688b-0469-4e46-b131-4d95560a5c2b",
   "metadata": {},
   "outputs": [],
   "source": [
    "s = \"this is My Python programming class and i am learNING python string and its function \""
   ]
  },
  {
   "cell_type": "code",
   "execution_count": 53,
   "id": "0cad3798-4cbf-441d-9b2b-3358cd572ccf",
   "metadata": {},
   "outputs": [
    {
     "name": "stdout",
     "output_type": "stream",
     "text": [
      "tssyyopgmncsa alrNph rgni ni \n"
     ]
    }
   ],
   "source": [
    "print(s[0:300:3])"
   ]
  },
  {
   "cell_type": "code",
   "execution_count": 54,
   "id": "0c070ca8-cb4e-42b9-b188-32d1091ba877",
   "metadata": {},
   "outputs": [
    {
     "name": "stdout",
     "output_type": "stream",
     "text": [
      " noitcnuf sti dna gnirts nohtyp GNINrael ma i dna ssalc gnimmargorp nohtyP yM si siht\n"
     ]
    }
   ],
   "source": [
    "print(s[::-1])"
   ]
  },
  {
   "cell_type": "code",
   "execution_count": 55,
   "id": "96000dd1-997e-4086-97fd-5910d13fbe6a",
   "metadata": {},
   "outputs": [
    {
     "name": "stdout",
     "output_type": "stream",
     "text": [
      "THIS IS MY PYTHON PROGRAMMING CLASS AND I AM LEARNING PYTHON STRING AND ITS FUNCTION \n"
     ]
    }
   ],
   "source": [
    "print(s.upper())\n"
   ]
  },
  {
   "cell_type": "code",
   "execution_count": 56,
   "id": "ed811fd8-e74a-45af-80d5-1bff4da74e3a",
   "metadata": {},
   "outputs": [
    {
     "name": "stdout",
     "output_type": "stream",
     "text": [
      "is is My P\n"
     ]
    }
   ],
   "source": [
    "print(s[2:12])"
   ]
  },
  {
   "cell_type": "code",
   "execution_count": 57,
   "id": "95bbac78-427b-4463-83b9-0da73eeb699d",
   "metadata": {},
   "outputs": [
    {
     "data": {
      "text/plain": [
       "'this is my python programming class and i am learning python string and its function '"
      ]
     },
     "execution_count": 57,
     "metadata": {},
     "output_type": "execute_result"
    }
   ],
   "source": [
    "s.lower()"
   ]
  },
  {
   "cell_type": "code",
   "execution_count": 58,
   "id": "3a4471ba-8448-4743-a8ee-c08e2ae2f028",
   "metadata": {},
   "outputs": [
    {
     "data": {
      "text/plain": [
       "'This is my python programming class and i am learning python string and its function '"
      ]
     },
     "execution_count": 58,
     "metadata": {},
     "output_type": "execute_result"
    }
   ],
   "source": [
    "s.capitalize()"
   ]
  },
  {
   "cell_type": "raw",
   "id": "bf62c83d-5fa1-4932-85df-c405c2b72957",
   "metadata": {},
   "source": [
    "isalnum() returns True if all characters in the string are alphanumeric (letters and numbers)\n",
    "\n",
    "isalpha() returns True if all characters are alphabetic (only letters)."
   ]
  },
  {
   "cell_type": "code",
   "execution_count": 59,
   "id": "7d38ea53-e971-4267-baac-a5d1300f3804",
   "metadata": {},
   "outputs": [
    {
     "data": {
      "text/plain": [
       "'i       am      sofiya'"
      ]
     },
     "execution_count": 59,
     "metadata": {},
     "output_type": "execute_result"
    }
   ],
   "source": [
    "s = 'i\\tam\\tsofiya'\n",
    "s.expandtabs()"
   ]
  },
  {
   "cell_type": "code",
   "execution_count": 60,
   "id": "badb9078-70d1-4845-af24-f18f97e3d439",
   "metadata": {},
   "outputs": [
    {
     "data": {
      "text/plain": [
       "\"hey   i'm     sofiya\""
      ]
     },
     "execution_count": 60,
     "metadata": {},
     "output_type": "execute_result"
    }
   ],
   "source": [
    "s = \"  hey   i'm     sofiya   \"\n",
    "(s.strip())"
   ]
  },
  {
   "cell_type": "code",
   "execution_count": 61,
   "id": "ea041ee3-f0d2-4d86-864b-928fd4b627f4",
   "metadata": {},
   "outputs": [
    {
     "data": {
      "text/plain": [
       "\"  hey   i'm     sofiya\""
      ]
     },
     "execution_count": 61,
     "metadata": {},
     "output_type": "execute_result"
    }
   ],
   "source": [
    "(s.rstrip())"
   ]
  },
  {
   "cell_type": "code",
   "execution_count": 62,
   "id": "17a7033f-697f-4eb4-8052-c659b81fcf3d",
   "metadata": {},
   "outputs": [
    {
     "data": {
      "text/plain": [
       "\"hey   i'm     sofiya   \""
      ]
     },
     "execution_count": 62,
     "metadata": {},
     "output_type": "execute_result"
    }
   ],
   "source": [
    "(s.lstrip())"
   ]
  },
  {
   "cell_type": "code",
   "execution_count": 63,
   "id": "201748cb-9aa1-4326-bb5e-ae66ecf4e121",
   "metadata": {},
   "outputs": [
    {
     "data": {
      "text/plain": [
       "'aimsxt'"
      ]
     },
     "execution_count": 63,
     "metadata": {},
     "output_type": "execute_result"
    }
   ],
   "source": [
    "s = \"aimnxt\"\n",
    "s.replace('n','s')"
   ]
  },
  {
   "cell_type": "code",
   "execution_count": 64,
   "id": "ac28768d-5548-41fd-9977-b8d3bf00a325",
   "metadata": {},
   "outputs": [
    {
     "data": {
      "text/plain": [
       "'********hey there********'"
      ]
     },
     "execution_count": 64,
     "metadata": {},
     "output_type": "execute_result"
    }
   ],
   "source": [
    "# center() is a predefined method generally used to keep the given input in the center or in the middle of defined length of string:example\n",
    "s = \"hey there\"\n",
    "s.center(25 , '*')"
   ]
  },
  {
   "cell_type": "raw",
   "id": "bb06b388-c20a-45b1-b741-7ed1cb67e4bf",
   "metadata": {},
   "source": [
    "A compiler translates the entire code into a separate file of machine code before the program runs. An interpreter translates and executes the code line by line without creating a separate ."
   ]
  },
  {
   "cell_type": "raw",
   "id": "ab9433c3-ca14-4a81-a530-db81a4e13f80",
   "metadata": {},
   "source": [
    "python is interpreted of compiled beacuse it is directly executing code and have a large prededined methods also"
   ]
  },
  {
   "cell_type": "raw",
   "id": "972cdcc8-78e4-4840-b22b-81d7dbdc0acd",
   "metadata": {},
   "source": [
    "Python is used for many things, but a simple use case is web development, such as building a website backend with a framework like Django or Flask."
   ]
  }
 ],
 "metadata": {
  "kernelspec": {
   "display_name": "Python 3 (ipykernel)",
   "language": "python",
   "name": "python3"
  },
  "language_info": {
   "codemirror_mode": {
    "name": "ipython",
    "version": 3
   },
   "file_extension": ".py",
   "mimetype": "text/x-python",
   "name": "python",
   "nbconvert_exporter": "python",
   "pygments_lexer": "ipython3",
   "version": "3.12.1"
  }
 },
 "nbformat": 4,
 "nbformat_minor": 5
}
